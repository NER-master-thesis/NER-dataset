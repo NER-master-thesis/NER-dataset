{
 "cells": [
  {
   "cell_type": "code",
   "execution_count": 2,
   "metadata": {},
   "outputs": [],
   "source": [
    "import os\n",
    "import re\n",
    "from utils import *\n",
    "\n",
    "\n",
    "folder = \"/dlabdata1/braemy/data\"\n",
    "file_name = \"enwiki-20170301-wbc_entity_usage.sql\""
   ]
  },
  {
   "cell_type": "code",
   "execution_count": 5,
   "metadata": {},
   "outputs": [],
   "source": [
    "with open(os.path.join(folder, file_name), \"r\") as file:\n",
    "    data = file.read()"
   ]
  },
  {
   "cell_type": "code",
   "execution_count": 6,
   "metadata": {},
   "outputs": [
    {
     "data": {
      "text/plain": [
       "12920613"
      ]
     },
     "execution_count": 6,
     "metadata": {},
     "output_type": "execute_result"
    }
   ],
   "source": [
    "# (301,'Q277941','X',1190,'\\\\0\\\\0\\\\0\\\\0\\\\0\\\\0\\\\0\\\\0\\\\0\\\\0\\\\0\\\\0\\\\0\\\\0')\n",
    "reg = r\"\\d+,'Q\\d+','\\w',\\d+\"\n",
    "result = re.findall(reg, data)\n",
    "len(result)"
   ]
  },
  {
   "cell_type": "code",
   "execution_count": 7,
   "metadata": {},
   "outputs": [],
   "source": [
    "pedia_to_data = dict()\n",
    "data_to_pedia = dict()\n",
    "for line in result:\n",
    "    line = line.split(\",\")\n",
    "    wikidata = line[1].strip(\"'\")\n",
    "    wikipedia = line[3]\n",
    "    pedia_to_data[wikipedia] =wikidata\n",
    "pickle_data(pedia_to_data, \"/dlabdata1/braemy/wikipedia_classification/wikipedia_to_wikidata.p\")"
   ]
  }
 ],
 "metadata": {
  "kernelspec": {
   "display_name": "Python 3",
   "language": "python",
   "name": "python3"
  },
  "language_info": {
   "codemirror_mode": {
    "name": "ipython",
    "version": 3.0
   },
   "file_extension": ".py",
   "mimetype": "text/x-python",
   "name": "python",
   "nbconvert_exporter": "python",
   "pygments_lexer": "ipython3",
   "version": "3.5.3"
  }
 },
 "nbformat": 4,
 "nbformat_minor": 0
}